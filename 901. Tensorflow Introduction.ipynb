{
 "cells": [
  {
   "cell_type": "markdown",
   "metadata": {},
   "source": [
    "# Introduction to Tensorflow\n",
    "\n",
    "## TensorFlow Graph\n",
    "\n",
    "- Tensorflow 는 computational graph 를 미리 작성하여 전체 연산을 효율적으로 수행\n",
    "\n",
    "- 자동으로 gradient 계산하여 model 을 optimize \n",
    "\n",
    "- multi-GPU 및 TPU 지원하여 병렬처리\n",
    "\n",
    "## Tensorflow Graph 의 구성 요소\n",
    "\n",
    "### Placeholder variable \n",
    "    - graph 에 input (X, y) 공급\n",
    "\n",
    "### Model variables \n",
    "    - Optimize 대상 parameter 변수\n",
    "\n",
    "### model \n",
    "    - placeholder variable  과 model variable 을 이용하여 output 을 계산하는 수학적 함수\n",
    "\n",
    "### cost measure 방법 (loss function)\n",
    "    - variable 을 optimize 하는 기준\n",
    "\n",
    "### optimization method \n",
    "    - model 의 variable 을 update\n"
   ]
  },
  {
   "cell_type": "code",
   "execution_count": 1,
   "metadata": {},
   "outputs": [],
   "source": [
    "import tensorflow as tf"
   ]
  },
  {
   "cell_type": "markdown",
   "metadata": {},
   "source": [
    "### Placeholder variables"
   ]
  },
  {
   "cell_type": "code",
   "execution_count": 2,
   "metadata": {},
   "outputs": [],
   "source": [
    "X= tf.placeholder(tf.float32, [None, 5])\n",
    "\n",
    "y = tf.placeholder(tf.float32, [None, 2])"
   ]
  },
  {
   "cell_type": "markdown",
   "metadata": {},
   "source": [
    "### Variables to be optimized"
   ]
  },
  {
   "cell_type": "code",
   "execution_count": 3,
   "metadata": {},
   "outputs": [
    {
     "name": "stdout",
     "output_type": "stream",
     "text": [
      "WARNING:tensorflow:From C:\\Users\\trimu\\Miniconda3\\envs\\tf_gpu\\lib\\site-packages\\tensorflow\\python\\framework\\op_def_library.py:263: colocate_with (from tensorflow.python.framework.ops) is deprecated and will be removed in a future version.\n",
      "Instructions for updating:\n",
      "Colocations handled automatically by placer.\n"
     ]
    }
   ],
   "source": [
    "weights = tf.Variable(tf.zeros([5, 2]))\n",
    "\n",
    "biases = tf.Variable(tf.ones([2]))"
   ]
  },
  {
   "cell_type": "code",
   "execution_count": 4,
   "metadata": {},
   "outputs": [
    {
     "name": "stdout",
     "output_type": "stream",
     "text": [
      "Tensor(\"Mul:0\", shape=(), dtype=int32)\n"
     ]
    }
   ],
   "source": [
    "x1 = tf.constant(5)\n",
    "x2 = tf.constant(6)\n",
    "\n",
    "result = tf.multiply(x1,x2)\n",
    "print(result)"
   ]
  },
  {
   "cell_type": "markdown",
   "metadata": {},
   "source": [
    "### tensorflow session"
   ]
  },
  {
   "cell_type": "code",
   "execution_count": 5,
   "metadata": {},
   "outputs": [
    {
     "name": "stdout",
     "output_type": "stream",
     "text": [
      "30\n"
     ]
    }
   ],
   "source": [
    "with tf.Session() as sess:\n",
    "    output = sess.run(result)\n",
    "    print(output)"
   ]
  },
  {
   "cell_type": "markdown",
   "metadata": {},
   "source": [
    "### 변수 연산"
   ]
  },
  {
   "cell_type": "code",
   "execution_count": 6,
   "metadata": {},
   "outputs": [
    {
     "name": "stdout",
     "output_type": "stream",
     "text": [
      "Tensor(\"add:0\", shape=(?, 2), dtype=float32)\n"
     ]
    }
   ],
   "source": [
    "y = tf.matmul(X, weights)  + 2 * biases\n",
    "print(y)"
   ]
  },
  {
   "cell_type": "code",
   "execution_count": 7,
   "metadata": {},
   "outputs": [
    {
     "name": "stdout",
     "output_type": "stream",
     "text": [
      "WARNING:tensorflow:From C:\\Users\\trimu\\Miniconda3\\envs\\tf_gpu\\lib\\site-packages\\tensorflow\\python\\util\\tf_should_use.py:193: initialize_all_variables (from tensorflow.python.ops.variables) is deprecated and will be removed after 2017-03-02.\n",
      "Instructions for updating:\n",
      "Use `tf.global_variables_initializer` instead.\n",
      "[[2. 2.]]\n"
     ]
    }
   ],
   "source": [
    "init = tf.initialize_all_variables()                 # 변수 초기화 instance 선언\n",
    "\n",
    "with tf.Session() as sess:\n",
    "    sess.run(init)\n",
    "    output = sess.run(y, feed_dict={X: [[1,2,3,4,5]]})\n",
    "    print(output)"
   ]
  },
  {
   "cell_type": "markdown",
   "metadata": {},
   "source": [
    "## Example of Tensorflow Programming"
   ]
  },
  {
   "cell_type": "code",
   "execution_count": 8,
   "metadata": {},
   "outputs": [],
   "source": [
    "# load mnist data\n",
    "(X_train, y_train), (X_test, y_test) = tf.keras.datasets.mnist.load_data()\n",
    "X_train = X_train.reshape(-1, 784).astype(\"float32\")\n",
    "X_test  = X_test.reshape(-1, 784).astype(\"float32\")\n",
    "\n",
    "X_train /= 255.\n",
    "X_test /= 255.\n",
    "\n",
    "Y_train = tf.keras.utils.to_categorical(y_train)\n",
    "Y_test = tf.keras.utils.to_categorical(y_test)"
   ]
  },
  {
   "cell_type": "markdown",
   "metadata": {},
   "source": [
    "### 변수들 선언"
   ]
  },
  {
   "cell_type": "code",
   "execution_count": 9,
   "metadata": {},
   "outputs": [],
   "source": [
    "# 변수들을 설정한다.\n",
    "x = tf.placeholder(tf.float32, [None, 784])   # input data (X) 가 제공될 변수 설정\n",
    "\n",
    "y_ = tf.placeholder(tf.float32, [None, 10])     # label data (y) 가 제공될 변수 설정\n",
    "\n",
    "W = tf.Variable(tf.zeros([784, 10]))             # Dense (10) - output layer 의 neuron 수\n",
    "\n",
    "b = tf.Variable(tf.zeros([10]))                      # output layer 의 bias"
   ]
  },
  {
   "cell_type": "markdown",
   "metadata": {},
   "source": [
    "### model 수식 지정"
   ]
  },
  {
   "cell_type": "code",
   "execution_count": 10,
   "metadata": {},
   "outputs": [],
   "source": [
    "y = tf.nn.softmax(tf.matmul(x, W) + b)        # Activation"
   ]
  },
  {
   "cell_type": "markdown",
   "metadata": {},
   "source": [
    "### loss 함수와 사용할 optimizer 지정"
   ]
  },
  {
   "cell_type": "code",
   "execution_count": 11,
   "metadata": {},
   "outputs": [
    {
     "name": "stdout",
     "output_type": "stream",
     "text": [
      "WARNING:tensorflow:From C:\\Users\\trimu\\Miniconda3\\envs\\tf_gpu\\lib\\site-packages\\tensorflow\\python\\ops\\math_ops.py:3066: to_int32 (from tensorflow.python.ops.math_ops) is deprecated and will be removed in a future version.\n",
      "Instructions for updating:\n",
      "Use tf.cast instead.\n"
     ]
    }
   ],
   "source": [
    "cross_entropy = tf.reduce_mean(-tf.reduce_sum(y_ * tf.log(y), reduction_indices=[1]))  # loss function 선언 \n",
    "\n",
    "train_step = tf.train.AdamOptimizer(0.5).minimize(cross_entropy)   # optimizer 설정"
   ]
  },
  {
   "cell_type": "markdown",
   "metadata": {},
   "source": [
    "### session 생성"
   ]
  },
  {
   "cell_type": "code",
   "execution_count": 12,
   "metadata": {},
   "outputs": [],
   "source": [
    "init = tf.initialize_all_variables()                 # 변수 초기화 instance 선언\n",
    "\n",
    "sess = tf.Session()                                    # tensorflow session 설정\n",
    "sess.run(init)                                            # 변수 초기화"
   ]
  },
  {
   "cell_type": "markdown",
   "metadata": {},
   "source": [
    "### model train"
   ]
  },
  {
   "cell_type": "code",
   "execution_count": 16,
   "metadata": {},
   "outputs": [
    {
     "name": "stdout",
     "output_type": "stream",
     "text": [
      "1 epoch 0 batch  0.08203125\n",
      "1 epoch 10 batch  0.08203125\n",
      "1 epoch 20 batch  0.08203125\n",
      "1 epoch 30 batch  0.08203125\n",
      "1 epoch 40 batch  0.08203125\n",
      "1 epoch 50 batch  0.08203125\n",
      "1 epoch 60 batch  0.08203125\n",
      "1 epoch 70 batch  0.08203125\n",
      "1 epoch 80 batch  0.08203125\n",
      "1 epoch 90 batch  0.08203125\n",
      "1 epoch 100 batch  0.08203125\n",
      "1 epoch 110 batch  0.08203125\n"
     ]
    }
   ],
   "source": [
    "# 경사하강법으로 모델을 학습시킨다\n",
    "\n",
    "EPOCHS = 1\n",
    "BATCH_SIZE = 512\n",
    "\n",
    "for epoch in range(EPOCHS):                             # EPOCHS 수 만큼 iterrate\n",
    "    \n",
    "    batch_count = int(X_train.shape[0]/BATCH_SIZE)       # epoch 당 배치의 갯수\n",
    "\n",
    "    for i in range(batch_count):\n",
    "    \n",
    "        batch_xs, batch_ys = X_train[i*BATCH_SIZE:i*BATCH_SIZE+BATCH_SIZE], \\\n",
    "                                        Y_train[i*BATCH_SIZE:i*BATCH_SIZE+BATCH_SIZE]           # mini-batch data 작성\n",
    "\n",
    "        sess.run(train_step, feed_dict={x: batch_xs, y_: batch_ys})    # train 실행\n",
    "\n",
    "        correct_prediction = tf.equal(tf.argmax(y,1), tf.argmax(y_,1))\n",
    "\n",
    "        accuracy = tf.reduce_mean(tf.cast(correct_prediction, \"float\"))\n",
    "\n",
    "        if i % 10 == 0 : \n",
    "            print(str(epoch+1)+' epoch '+ str(i)+' batch ', \n",
    "                          sess.run(accuracy, feed_dict={x: X_test[:BATCH_SIZE], y_: Y_test[:BATCH_SIZE]}))"
   ]
  },
  {
   "cell_type": "code",
   "execution_count": 17,
   "metadata": {},
   "outputs": [
    {
     "name": "stdout",
     "output_type": "stream",
     "text": [
      "0.098\n"
     ]
    }
   ],
   "source": [
    "# 학습된 모델이 얼마나 정확한지를 출력한다.\n",
    "correct_prediction = tf.equal(tf.argmax(y,1), tf.argmax(y_,1))\n",
    "\n",
    "accuracy = tf.reduce_mean(tf.cast(correct_prediction, tf.float32))\n",
    "\n",
    "print(sess.run(accuracy, feed_dict={x: X_test, y_: Y_test}))"
   ]
  },
  {
   "cell_type": "markdown",
   "metadata": {},
   "source": [
    "# Introduction to keras"
   ]
  },
  {
   "cell_type": "code",
   "execution_count": 18,
   "metadata": {},
   "outputs": [],
   "source": [
    "import tensorflow as tf\n",
    "from tensorflow.keras.layers import Dense, Activation\n",
    "\n",
    "# model 1 : No Hidden Layer\n",
    "model = tf.keras.Sequential()\n",
    "model.add(Dense(10, input_shape=(784,)))\n",
    "model.add(Activation('softmax'))"
   ]
  },
  {
   "cell_type": "code",
   "execution_count": 19,
   "metadata": {},
   "outputs": [],
   "source": [
    "EPOCHS = 1\n",
    "BATCH_SIZE = 512"
   ]
  },
  {
   "cell_type": "code",
   "execution_count": 20,
   "metadata": {},
   "outputs": [
    {
     "name": "stdout",
     "output_type": "stream",
     "text": [
      "10000/10000 [==============================] - 0s 50us/sample - loss: 0.6328 - acc: 0.8606\n",
      "Test score : 0.632761088180542\n",
      "Test accuracy : 0.8606\n"
     ]
    }
   ],
   "source": [
    "model.compile(loss='categorical_crossentropy', optimizer='adam', metrics=[\"accuracy\"])\n",
    "\n",
    "history = model.fit(X_train, Y_train, batch_size=BATCH_SIZE, epochs=EPOCHS, verbose=0, validation_data=(X_test, Y_test))\n",
    "\n",
    "score = model.evaluate(X_test, Y_test)\n",
    "\n",
    "print(\"Test score :\", score[0])          # evaluation of loss function\n",
    "print(\"Test accuracy :\", score[1])"
   ]
  },
  {
   "cell_type": "code",
   "execution_count": null,
   "metadata": {},
   "outputs": [],
   "source": []
  }
 ],
 "metadata": {
  "kernelspec": {
   "display_name": "Python 3",
   "language": "python",
   "name": "python3"
  },
  "language_info": {
   "codemirror_mode": {
    "name": "ipython",
    "version": 3
   },
   "file_extension": ".py",
   "mimetype": "text/x-python",
   "name": "python",
   "nbconvert_exporter": "python",
   "pygments_lexer": "ipython3",
   "version": "3.7.3"
  }
 },
 "nbformat": 4,
 "nbformat_minor": 2
}
