{
 "cells": [
  {
   "cell_type": "markdown",
   "metadata": {},
   "source": [
    "# 영화평 Text 분류 - Sentiment Analysis\n",
    "\n",
    "IMDB (Internet Movie Database, https://www.imdb.com/)  Dataset\n",
    "\n",
    "- IMDb site 의 50,000 개 영화평 text 로 구성   \n",
    "\n",
    "  \n",
    "- 25,000 training set 과 25,000 testing set 으로 구성 (training set 과 test set 이 반반임)\n",
    "\n",
    "  \n",
    "- postive / negative reivew 가 동일한 숫자로 구성\n",
    "\n",
    "\n",
    "- kreas.imbd 사용. 이미 preprocessing 이 되어 있고 review 내의 각 단어는 integer 숫자로 변환되어 있음.  \n",
    "  (빈번히 사용되는 순서로 숫자 부여) \n",
    "  \n",
    "\n",
    "- num_words=10000 - training set 에 가장 빈번히 등장하는 상위 10,000 개 단어 유지"
   ]
  },
  {
   "cell_type": "code",
   "execution_count": 22,
   "metadata": {},
   "outputs": [],
   "source": [
    "import tensorflow as tf\n",
    "from tensorflow import keras\n",
    "from tensorflow.keras.layers import Dense, LSTM, Embedding, Dropout\n",
    "from tensorflow.keras.models import Sequential\n",
    "import numpy as np"
   ]
  },
  {
   "cell_type": "code",
   "execution_count": 23,
   "metadata": {},
   "outputs": [],
   "source": [
    "imdb = keras.datasets.imdb\n",
    "\n",
    "(X_train, y_train), (X_test, y_test) = imdb.load_data(num_words=10000)"
   ]
  },
  {
   "cell_type": "markdown",
   "metadata": {},
   "source": [
    "## Data 탐색"
   ]
  },
  {
   "cell_type": "code",
   "execution_count": 24,
   "metadata": {},
   "outputs": [
    {
     "name": "stdout",
     "output_type": "stream",
     "text": [
      "(25000,)\n",
      "(25000,)\n",
      "(25000,)\n",
      "(25000,)\n"
     ]
    }
   ],
   "source": [
    "print(X_train.shape)\n",
    "print(y_train.shape)\n",
    "print(X_test.shape)\n",
    "print(y_test.shape)"
   ]
  },
  {
   "cell_type": "code",
   "execution_count": 25,
   "metadata": {},
   "outputs": [
    {
     "data": {
      "text/plain": [
       "[1, 14, 22, 16, 43, 530, 973, 1622, 1385, 65]"
      ]
     },
     "execution_count": 25,
     "metadata": {},
     "output_type": "execute_result"
    }
   ],
   "source": [
    "X_train[0][:10]"
   ]
  },
  {
   "cell_type": "code",
   "execution_count": 26,
   "metadata": {},
   "outputs": [
    {
     "name": "stdout",
     "output_type": "stream",
     "text": [
      "[1, 14, 22, 16, 43, 530, 973, 1622, 1385, 65, 458, 4468, 66, 3941, 4, 173, 36, 256, 5, 25, 100, 43, 838, 112, 50, 670, 2, 9, 35, 480, 284, 5, 150, 4, 172, 112, 167, 2, 336, 385, 39, 4, 172, 4536, 1111, 17, 546, 38, 13, 447]\n",
      "\n",
      "[1 0 0 1 0 0 1 0 1 0]\n",
      "\n"
     ]
    }
   ],
   "source": [
    "print(X_train[0][:50])\n",
    "print()\n",
    "print(y_train[0: 10])\n",
    "print()"
   ]
  },
  {
   "cell_type": "markdown",
   "metadata": {},
   "source": [
    "### 영화 감상평 min, max 길이 check"
   ]
  },
  {
   "cell_type": "code",
   "execution_count": 27,
   "metadata": {},
   "outputs": [
    {
     "name": "stdout",
     "output_type": "stream",
     "text": [
      "최대길이 :  2494    index =  17934\n",
      "최소길이 :  11     index =  6719\n"
     ]
    }
   ],
   "source": [
    "max = 0\n",
    "idx = 0\n",
    "for i, arr in enumerate(X_train):\n",
    "    if max < len(arr):\n",
    "        max = len(arr)\n",
    "        idx = i\n",
    "print(\"최대길이 : \", max, \"   index = \", idx)\n",
    "\n",
    "min = 99999\n",
    "idx = 0\n",
    "for i, arr in enumerate(X_train):\n",
    "    if min > len(arr):\n",
    "        min = len(arr)\n",
    "        idx = i\n",
    "print(\"최소길이 : \", min, \"    index = \", idx)"
   ]
  },
  {
   "cell_type": "markdown",
   "metadata": {},
   "source": [
    "## word-to-index 및 index_to_word Look-up table 작성\n",
    "\n",
    "word dictionary : imdb.get_word_index()"
   ]
  },
  {
   "cell_type": "code",
   "execution_count": 28,
   "metadata": {},
   "outputs": [],
   "source": [
    "word2index = imdb.get_word_index()"
   ]
  },
  {
   "cell_type": "code",
   "execution_count": 29,
   "metadata": {},
   "outputs": [
    {
     "data": {
      "text/plain": [
       "88584"
      ]
     },
     "execution_count": 29,
     "metadata": {},
     "output_type": "execute_result"
    }
   ],
   "source": [
    "len(word2index)"
   ]
  },
  {
   "cell_type": "code",
   "execution_count": 30,
   "metadata": {},
   "outputs": [],
   "source": [
    "#sorted(word2index.items(), key=lambda kv: kv[1])"
   ]
  },
  {
   "cell_type": "code",
   "execution_count": 31,
   "metadata": {},
   "outputs": [
    {
     "data": {
      "text/plain": [
       "[('the', 1), ('and', 2), ('a', 3), ('of', 4), ('to', 5)]"
      ]
     },
     "execution_count": 31,
     "metadata": {},
     "output_type": "execute_result"
    }
   ],
   "source": [
    "sorted(word2index.items(), key=lambda kv: kv[1])[:5]"
   ]
  },
  {
   "cell_type": "markdown",
   "metadata": {},
   "source": [
    "## 관례적으로 처음 4 개의 index (0, 1, 2, 3) 은 reserve 되어 있으므로 이를 word2index 에 반영"
   ]
  },
  {
   "cell_type": "code",
   "execution_count": 32,
   "metadata": {},
   "outputs": [],
   "source": [
    "# reserved indexes\n",
    "word2index = {k:(v+3) for k, v in word2index.items()}\n",
    "\n",
    "word2index[\"<PAD>\"] = 0\n",
    "word2index[\"<START>\"] = 1\n",
    "word2index[\"<UNK>\"] = 2\n",
    "word2index[\"<UNUSED>\"] = 3\n",
    "\n",
    "index2word = dict([(value, key) for (key, value) in word2index.items()])"
   ]
  },
  {
   "cell_type": "code",
   "execution_count": 33,
   "metadata": {},
   "outputs": [
    {
     "data": {
      "text/plain": [
       "[('<PAD>', 0),\n",
       " ('<START>', 1),\n",
       " ('<UNK>', 2),\n",
       " ('<UNUSED>', 3),\n",
       " ('the', 4),\n",
       " ('and', 5),\n",
       " ('a', 6),\n",
       " ('of', 7),\n",
       " ('to', 8),\n",
       " ('is', 9)]"
      ]
     },
     "execution_count": 33,
     "metadata": {},
     "output_type": "execute_result"
    }
   ],
   "source": [
    "sorted(word2index.items(), key=lambda kv: kv[1])[:10]"
   ]
  },
  {
   "cell_type": "code",
   "execution_count": 34,
   "metadata": {},
   "outputs": [
    {
     "data": {
      "text/plain": [
       "\"<START> this film was just brilliant casting location scenery story direction everyone's really suited the part they played and you could just imagine being there robert <UNK> is an amazing actor and now the same being director <UNK> father came from the same scottish island as myself so i loved the fact there was a real connection with this film the witty remarks throughout the film were great it was just brilliant so much that i bought the film as soon as it was released for <UNK> and would recommend it to everyone to watch and the fly fishing was amazing really cried at the end it was so sad and you know what they say if you cry at a film it must have been good and this definitely was also <UNK> to the two little boy's that played the <UNK> of norman and paul they were just brilliant children are often left out of the <UNK> list i think because the stars that play them all grown up are such a big profile for the whole film but these children are amazing and should be praised for what they have done don't you think the whole story was so lovely because it was true and was someone's life after all that was shared with us all\""
      ]
     },
     "execution_count": 34,
     "metadata": {},
     "output_type": "execute_result"
    }
   ],
   "source": [
    "' '.join([index2word.get(i, '?') for i in X_train[0]])"
   ]
  },
  {
   "cell_type": "markdown",
   "metadata": {},
   "source": [
    "## Data Preparation\n",
    "\n",
    "입력 data 의 길이와 dimension 을 neural network 의 tensor 형태로 convert.\n",
    "\n",
    "keras 의 pad_sequences 함수 사용. maximum length = 256 으로 통일"
   ]
  },
  {
   "cell_type": "code",
   "execution_count": 35,
   "metadata": {},
   "outputs": [],
   "source": [
    "from tensorflow.keras.preprocessing.sequence import pad_sequences"
   ]
  },
  {
   "cell_type": "code",
   "execution_count": 36,
   "metadata": {},
   "outputs": [],
   "source": [
    "X_train = pad_sequences(X_train, value=word2index[\"<PAD>\"], padding='post', maxlen=256)\n",
    "\n",
    "X_test = pad_sequences(X_test, value=word2index[\"<PAD>\"], padding='post', maxlen=256)"
   ]
  },
  {
   "cell_type": "code",
   "execution_count": 37,
   "metadata": {},
   "outputs": [
    {
     "data": {
      "text/plain": [
       "(25000, 256)"
      ]
     },
     "execution_count": 37,
     "metadata": {},
     "output_type": "execute_result"
    }
   ],
   "source": [
    "X_train.shape"
   ]
  },
  {
   "cell_type": "code",
   "execution_count": 38,
   "metadata": {},
   "outputs": [
    {
     "name": "stdout",
     "output_type": "stream",
     "text": [
      "[   1    4  425  144   28   77    4 4055   15   16   64   29  122 1135\n",
      "   10   10   50   16  164   23    4   20   15   16   52    4 2786    7\n",
      "    4   20  152   66    2   19    4  114   10   10    4   64  155   15\n",
      "   13   70   79   39    4   20    9   15   29   16    6   52  492   21\n",
      "    6  364  113  394  415   10   10  146  806   15   13    2   61  278\n",
      "    5   58   23   14   20   13  219   84 1200    4  750   11    4  655\n",
      "    7    4   20   13 2674 1383   15   12   80  128   51    6 1323   13\n",
      "  188  433   10   10   48   50    9    6 5943   15   13   70   97    8\n",
      "   29 1325    9    8  796 1504   27  113    8  160 1845   88  231  102\n",
      "    9  407   57   27 3647    7 3384    0    0    0    0    0    0    0\n",
      "    0    0    0    0    0    0    0    0    0    0    0    0    0    0\n",
      "    0    0    0    0    0    0    0    0    0    0    0    0    0    0\n",
      "    0    0    0    0    0    0    0    0    0    0    0    0    0    0\n",
      "    0    0    0    0    0    0    0    0    0    0    0    0    0    0\n",
      "    0    0    0    0    0    0    0    0    0    0    0    0    0    0\n",
      "    0    0    0    0    0    0    0    0    0    0    0    0    0    0\n",
      "    0    0    0    0    0    0    0    0    0    0    0    0    0    0\n",
      "    0    0    0    0    0    0    0    0    0    0    0    0    0    0\n",
      "    0    0    0    0]\n"
     ]
    }
   ],
   "source": [
    "print(X_train[205])"
   ]
  },
  {
   "cell_type": "markdown",
   "metadata": {},
   "source": [
    "## 모델 구성\n",
    "\n",
    "1) 첫 번째 층 - word Embedding 층\n",
    "\n",
    "    keras.layers.Embedding(input_dim, output_dim)\n",
    "    \n",
    "    input_dim - size of vocaburary\n",
    "    output_dim - dimension of dense embedding\n",
    "    \n",
    "    output shape = (batch_size, output_dim, input_dim)\n",
    "    \n",
    "2) LSTM 층  \n",
    "\n",
    "3) 마지막 층-  sigmoid 활성화 함수를 사용하여 0과 1 사이의 실수를 출력합니다. 이 값은 확률 또는 신뢰도를 나타냅니다."
   ]
  },
  {
   "cell_type": "code",
   "execution_count": 39,
   "metadata": {},
   "outputs": [
    {
     "name": "stdout",
     "output_type": "stream",
     "text": [
      "_________________________________________________________________\n",
      "Layer (type)                 Output Shape              Param #   \n",
      "=================================================================\n",
      "embedding_1 (Embedding)      (None, None, 64)          640000    \n",
      "_________________________________________________________________\n",
      "lstm_1 (LSTM)                (None, 32)                12416     \n",
      "_________________________________________________________________\n",
      "dense_1 (Dense)              (None, 1)                 33        \n",
      "=================================================================\n",
      "Total params: 652,449\n",
      "Trainable params: 652,449\n",
      "Non-trainable params: 0\n",
      "_________________________________________________________________\n"
     ]
    }
   ],
   "source": [
    "vocab_size = 10000\n",
    "model = Sequential()\n",
    "model.add(Embedding(vocab_size, 64))\n",
    "model.add(LSTM(32, dropout=0.2, recurrent_dropout=0.2))\n",
    "model.add(Dense(1, activation=tf.nn.sigmoid))\n",
    "\n",
    "model.summary()"
   ]
  },
  {
   "cell_type": "code",
   "execution_count": 40,
   "metadata": {},
   "outputs": [],
   "source": [
    "model.compile(optimizer=tf.train.AdamOptimizer(), loss='binary_crossentropy', metrics=['accuracy'])"
   ]
  },
  {
   "cell_type": "code",
   "execution_count": 41,
   "metadata": {
    "scrolled": false
   },
   "outputs": [
    {
     "name": "stdout",
     "output_type": "stream",
     "text": [
      "Train on 20000 samples, validate on 5000 samples\n",
      "Epoch 1/10\n",
      "20000/20000 [==============================] - 20s 990us/sample - loss: 0.6921 - acc: 0.5186 - val_loss: 0.6900 - val_acc: 0.5238\n",
      "Epoch 2/10\n",
      "20000/20000 [==============================] - 19s 938us/sample - loss: 0.6716 - acc: 0.5725 - val_loss: 0.6038 - val_acc: 0.6126\n",
      "Epoch 3/10\n",
      "20000/20000 [==============================] - 19s 939us/sample - loss: 0.6114 - acc: 0.7085 - val_loss: 0.5305 - val_acc: 0.7736\n",
      "Epoch 4/10\n",
      "20000/20000 [==============================] - 19s 925us/sample - loss: 0.5585 - acc: 0.7483 - val_loss: 0.4742 - val_acc: 0.8232\n",
      "Epoch 5/10\n",
      "20000/20000 [==============================] - 19s 935us/sample - loss: 0.5104 - acc: 0.7870 - val_loss: 0.5098 - val_acc: 0.7896\n",
      "Epoch 6/10\n",
      "20000/20000 [==============================] - 19s 956us/sample - loss: 0.4722 - acc: 0.8146 - val_loss: 0.4507 - val_acc: 0.8240\n",
      "Epoch 7/10\n",
      "20000/20000 [==============================] - 19s 949us/sample - loss: 0.4600 - acc: 0.8175 - val_loss: 0.4952 - val_acc: 0.7784\n",
      "Epoch 8/10\n",
      "20000/20000 [==============================] - 19s 936us/sample - loss: 0.4785 - acc: 0.8149 - val_loss: 0.5054 - val_acc: 0.7990\n",
      "Epoch 9/10\n",
      "20000/20000 [==============================] - 18s 924us/sample - loss: 0.4653 - acc: 0.8171 - val_loss: 0.4623 - val_acc: 0.8156\n",
      "Epoch 10/10\n",
      "20000/20000 [==============================] - 18s 921us/sample - loss: 0.4737 - acc: 0.8161 - val_loss: 0.5409 - val_acc: 0.7804\n"
     ]
    }
   ],
   "source": [
    "epochs = 10\n",
    "history = model.fit(X_train, y_train, epochs=epochs, batch_size=512, validation_split=0.2, verbose=1)"
   ]
  },
  {
   "cell_type": "code",
   "execution_count": 42,
   "metadata": {},
   "outputs": [
    {
     "name": "stdout",
     "output_type": "stream",
     "text": [
      "25000/25000 [==============================] - 84s 3ms/sample - loss: 0.5539 - acc: 0.7768\n",
      "[0.5538689239501953, 0.77676]\n"
     ]
    }
   ],
   "source": [
    "results = model.evaluate(X_test, y_test)\n",
    "print(results)"
   ]
  },
  {
   "cell_type": "code",
   "execution_count": 43,
   "metadata": {},
   "outputs": [],
   "source": [
    "hist = history.history"
   ]
  },
  {
   "cell_type": "code",
   "execution_count": 44,
   "metadata": {
    "scrolled": true
   },
   "outputs": [
    {
     "data": {
      "text/plain": [
       "dict_keys(['loss', 'acc', 'val_loss', 'val_acc'])"
      ]
     },
     "execution_count": 44,
     "metadata": {},
     "output_type": "execute_result"
    }
   ],
   "source": [
    "hist.keys()"
   ]
  },
  {
   "cell_type": "code",
   "execution_count": 45,
   "metadata": {},
   "outputs": [
    {
     "data": {
      "text/plain": [
       "10"
      ]
     },
     "execution_count": 45,
     "metadata": {},
     "output_type": "execute_result"
    }
   ],
   "source": [
    "len(hist['loss'])"
   ]
  },
  {
   "cell_type": "code",
   "execution_count": 47,
   "metadata": {},
   "outputs": [
    {
     "data": {
      "image/png": "[encoded data removed]",
      "text/plain": [
       "<Figure size 864x288 with 2 Axes>"
      ]
     },
     "metadata": {
      "needs_background": "light"
     },
     "output_type": "display_data"
    }
   ],
   "source": [
    "import matplotlib.pyplot as plt\n",
    "%matplotlib inline\n",
    "\n",
    "plt.figure(figsize=(12, 4))\n",
    "ax1 = plt.subplot(121)\n",
    "ax1.plot(np.arange(epochs), hist['loss'], 'bo', label='train loss')\n",
    "ax1.plot(np.arange(epochs), hist['val_loss'], 'b', label='val loss')\n",
    "ax1.legend()\n",
    "\n",
    "ax2 = plt.subplot(122)\n",
    "ax2.plot(np.arange(epochs), hist['acc'], 'ro', label='train accuracy')\n",
    "ax2.plot(np.arange(epochs), hist['val_acc'], label='val accuracy')\n",
    "ax2.legend(loc=4)\n",
    "plt.show()"
   ]
  },
  {
   "cell_type": "code",
   "execution_count": 48,
   "metadata": {},
   "outputs": [],
   "source": [
    "y_prediction = model.predict(X_test)"
   ]
  },
  {
   "cell_type": "code",
   "execution_count": 49,
   "metadata": {},
   "outputs": [],
   "source": [
    "y_pred = y_prediction > 0.5"
   ]
  },
  {
   "cell_type": "code",
   "execution_count": 50,
   "metadata": {},
   "outputs": [
    {
     "name": "stdout",
     "output_type": "stream",
     "text": [
      "F1-score: 0.7418952041807335\n",
      "Confusion matrix:\n"
     ]
    },
    {
     "data": {
      "text/plain": [
       "array([[11398,  4479],\n",
       "       [ 1102,  8021]], dtype=int64)"
      ]
     },
     "execution_count": 50,
     "metadata": {},
     "output_type": "execute_result"
    }
   ],
   "source": [
    "from sklearn.metrics import f1_score, confusion_matrix\n",
    "print('F1-score: {0}'.format(f1_score(y_pred, y_test)))\n",
    "print('Confusion matrix:')\n",
    "confusion_matrix(y_pred, y_test)"
   ]
  }
 ],
 "metadata": {
  "kernelspec": {
   "display_name": "Python 3",
   "language": "python",
   "name": "python3"
  },
  "language_info": {
   "codemirror_mode": {
    "name": "ipython",
    "version": 3
   },
   "file_extension": ".py",
   "mimetype": "text/x-python",
   "name": "python",
   "nbconvert_exporter": "python",
   "pygments_lexer": "ipython3",
   "version": "3.7.3"
  }
 },
 "nbformat": 4,
 "nbformat_minor": 2
}
