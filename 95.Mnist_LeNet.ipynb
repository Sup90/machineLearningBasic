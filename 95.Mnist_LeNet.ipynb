{
 "cells": [
  {
   "cell_type": "markdown",
   "metadata": {},
   "source": [
    "# LeNet"
   ]
  },
  {
   "cell_type": "code",
   "execution_count": 1,
   "metadata": {},
   "outputs": [],
   "source": [
    "import numpy as np\n",
    "import matplotlib.pyplot as plt\n",
    "plt.rcParams['figure.figsize'] = (7,7)\n",
    "import tensorflow as tf\n",
    "\n",
    "from tensorflow.keras.layers import Conv2D, AveragePooling2D\n",
    "from tensorflow.keras.layers import Dense, Flatten, Activation\n",
    "\n",
    "from tensorflow.keras.datasets import mnist\n",
    "np.random.seed(101)"
   ]
  },
  {
   "cell_type": "code",
   "execution_count": 2,
   "metadata": {},
   "outputs": [
    {
     "name": "stdout",
     "output_type": "stream",
     "text": [
      "(60000, 28, 28)\n",
      "(60000,)\n",
      "(10000, 28, 28)\n",
      "(10000,)\n"
     ]
    }
   ],
   "source": [
    "(X_train, y_train), (X_test, y_test) = mnist.load_data()\n",
    "\n",
    "print(X_train.shape)\n",
    "print(y_train.shape)\n",
    "print(X_test.shape)\n",
    "print(y_test.shape)"
   ]
  },
  {
   "cell_type": "code",
   "execution_count": 3,
   "metadata": {},
   "outputs": [],
   "source": [
    "X_train_scaled = X_train / 255.\n",
    "X_test_scaled = X_test / 255."
   ]
  },
  {
   "cell_type": "code",
   "execution_count": 4,
   "metadata": {},
   "outputs": [],
   "source": [
    "X_train_scaled = np.expand_dims(X_train_scaled, axis=3)\n",
    "X_test_scaled = np.expand_dims(X_test_scaled, axis=3)"
   ]
  },
  {
   "cell_type": "code",
   "execution_count": 5,
   "metadata": {},
   "outputs": [
    {
     "data": {
      "text/plain": [
       "(10000, 28, 28, 1)"
      ]
     },
     "execution_count": 5,
     "metadata": {},
     "output_type": "execute_result"
    }
   ],
   "source": [
    "X_train_scaled.shape\n",
    "X_test_scaled.shape"
   ]
  },
  {
   "cell_type": "code",
   "execution_count": 6,
   "metadata": {},
   "outputs": [],
   "source": [
    "Y_train = tf.keras.utils.to_categorical(y_train)\n",
    "Y_test = tf.keras.utils.to_categorical(y_test)"
   ]
  },
  {
   "cell_type": "code",
   "execution_count": 7,
   "metadata": {},
   "outputs": [
    {
     "name": "stdout",
     "output_type": "stream",
     "text": [
      "WARNING:tensorflow:From C:\\Users\\trimu\\Miniconda3\\envs\\tf_gpu\\lib\\site-packages\\tensorflow\\python\\ops\\resource_variable_ops.py:435: colocate_with (from tensorflow.python.framework.ops) is deprecated and will be removed in a future version.\n",
      "Instructions for updating:\n",
      "Colocations handled automatically by placer.\n"
     ]
    }
   ],
   "source": [
    "# LeNet\n",
    "model = tf.keras.Sequential()\n",
    "\n",
    "model.add(Conv2D(6, kernel_size=5, padding=\"same\", input_shape=(28, 28, 1)))\n",
    "model.add(Activation(\"relu\"))\n",
    "\n",
    "model.add(AveragePooling2D(pool_size=(2, 2), strides=(1, 1), padding=\"valid\"))\n",
    "\n",
    "model.add(Conv2D(16, kernel_size=5, padding=\"valid\"))\n",
    "model.add(Activation('relu'))\n",
    "\n",
    "model.add(AveragePooling2D(pool_size=(2, 2), strides=(2, 2), padding=\"valid\"))\n",
    "\n",
    "model.add(Flatten())\n",
    "\n",
    "model.add(Dense(120))\n",
    "model.add(Activation(\"relu\"))\n",
    "\n",
    "model.add(Dense(84))\n",
    "model.add(Activation(\"relu\"))\n",
    "\n",
    "model.add(Dense(10))\n",
    "model.add(Activation(\"softmax\"))"
   ]
  },
  {
   "cell_type": "code",
   "execution_count": 8,
   "metadata": {},
   "outputs": [
    {
     "name": "stdout",
     "output_type": "stream",
     "text": [
      "_________________________________________________________________\n",
      "Layer (type)                 Output Shape              Param #   \n",
      "=================================================================\n",
      "conv2d (Conv2D)              (None, 28, 28, 6)         156       \n",
      "_________________________________________________________________\n",
      "activation (Activation)      (None, 28, 28, 6)         0         \n",
      "_________________________________________________________________\n",
      "average_pooling2d (AveragePo (None, 27, 27, 6)         0         \n",
      "_________________________________________________________________\n",
      "conv2d_1 (Conv2D)            (None, 23, 23, 16)        2416      \n",
      "_________________________________________________________________\n",
      "activation_1 (Activation)    (None, 23, 23, 16)        0         \n",
      "_________________________________________________________________\n",
      "average_pooling2d_1 (Average (None, 11, 11, 16)        0         \n",
      "_________________________________________________________________\n",
      "flatten (Flatten)            (None, 1936)              0         \n",
      "_________________________________________________________________\n",
      "dense (Dense)                (None, 120)               232440    \n",
      "_________________________________________________________________\n",
      "activation_2 (Activation)    (None, 120)               0         \n",
      "_________________________________________________________________\n",
      "dense_1 (Dense)              (None, 84)                10164     \n",
      "_________________________________________________________________\n",
      "activation_3 (Activation)    (None, 84)                0         \n",
      "_________________________________________________________________\n",
      "dense_2 (Dense)              (None, 10)                850       \n",
      "_________________________________________________________________\n",
      "activation_4 (Activation)    (None, 10)                0         \n",
      "=================================================================\n",
      "Total params: 246,026\n",
      "Trainable params: 246,026\n",
      "Non-trainable params: 0\n",
      "_________________________________________________________________\n"
     ]
    }
   ],
   "source": [
    "model.summary()"
   ]
  },
  {
   "cell_type": "code",
   "execution_count": 9,
   "metadata": {},
   "outputs": [],
   "source": [
    "model.compile(loss=\"categorical_crossentropy\", optimizer='adam', metrics=['accuracy'])"
   ]
  },
  {
   "cell_type": "code",
   "execution_count": 10,
   "metadata": {
    "scrolled": false
   },
   "outputs": [
    {
     "name": "stdout",
     "output_type": "stream",
     "text": [
      "Train on 48000 samples, validate on 12000 samples\n",
      "WARNING:tensorflow:From C:\\Users\\trimu\\Miniconda3\\envs\\tf_gpu\\lib\\site-packages\\tensorflow\\python\\ops\\math_ops.py:3066: to_int32 (from tensorflow.python.ops.math_ops) is deprecated and will be removed in a future version.\n",
      "Instructions for updating:\n",
      "Use tf.cast instead.\n",
      "Epoch 1/10\n",
      "48000/48000 [==============================] - 7s 144us/sample - loss: 0.2651 - acc: 0.9234 - val_loss: 0.0844 - val_acc: 0.9735\n",
      "Epoch 2/10\n",
      "48000/48000 [==============================] - 5s 104us/sample - loss: 0.0733 - acc: 0.9778 - val_loss: 0.0680 - val_acc: 0.9794\n",
      "Epoch 3/10\n",
      "48000/48000 [==============================] - 5s 103us/sample - loss: 0.0507 - acc: 0.9841 - val_loss: 0.0631 - val_acc: 0.9812\n",
      "Epoch 4/10\n",
      "48000/48000 [==============================] - 5s 104us/sample - loss: 0.0400 - acc: 0.9877 - val_loss: 0.0496 - val_acc: 0.9856\n",
      "Epoch 5/10\n",
      "48000/48000 [==============================] - 5s 103us/sample - loss: 0.0316 - acc: 0.9900 - val_loss: 0.0513 - val_acc: 0.9854\n",
      "Epoch 6/10\n",
      "48000/48000 [==============================] - 5s 104us/sample - loss: 0.0247 - acc: 0.9920 - val_loss: 0.0508 - val_acc: 0.9857\n",
      "Epoch 7/10\n",
      "48000/48000 [==============================] - 5s 103us/sample - loss: 0.0212 - acc: 0.9932 - val_loss: 0.0472 - val_acc: 0.9864\n",
      "Epoch 8/10\n",
      "48000/48000 [==============================] - 5s 105us/sample - loss: 0.0169 - acc: 0.9946 - val_loss: 0.0564 - val_acc: 0.9841\n",
      "Epoch 9/10\n",
      "48000/48000 [==============================] - 5s 104us/sample - loss: 0.0151 - acc: 0.9947 - val_loss: 0.0559 - val_acc: 0.9861\n",
      "Epoch 10/10\n",
      "48000/48000 [==============================] - 5s 104us/sample - loss: 0.0129 - acc: 0.9961 - val_loss: 0.0467 - val_acc: 0.9880\n"
     ]
    }
   ],
   "source": [
    "history = model.fit(X_train_scaled, Y_train, batch_size=128, epochs=10, validation_split=0.2)"
   ]
  },
  {
   "cell_type": "code",
   "execution_count": 11,
   "metadata": {
    "scrolled": true
   },
   "outputs": [
    {
     "name": "stdout",
     "output_type": "stream",
     "text": [
      "10000/10000 [==============================] - 1s 83us/sample - loss: 0.0386 - acc: 0.9889\n"
     ]
    }
   ],
   "source": [
    "score = model.evaluate(X_test_scaled, Y_test)"
   ]
  },
  {
   "cell_type": "code",
   "execution_count": 12,
   "metadata": {},
   "outputs": [
    {
     "name": "stdout",
     "output_type": "stream",
     "text": [
      "Test Score  0.038594891983018166\n",
      "Test Accuracy  0.9889\n"
     ]
    }
   ],
   "source": [
    "print(\"Test Score \", score[0])\n",
    "print(\"Test Accuracy \", score[1])"
   ]
  },
  {
   "cell_type": "code",
   "execution_count": 13,
   "metadata": {},
   "outputs": [
    {
     "data": {
      "text/plain": [
       "<matplotlib.legend.Legend at 0x2074d475ac8>"
      ]
     },
     "execution_count": 13,
     "metadata": {},
     "output_type": "execute_result"
    },
    {
     "data": {
      "image/png": "[encoded data removed]",
      "text/plain": [
       "<Figure size 864x288 with 2 Axes>"
      ]
     },
     "metadata": {
      "needs_background": "light"
     },
     "output_type": "display_data"
    }
   ],
   "source": [
    "plt.figure(figsize=(12,4))\n",
    "plt.subplot(1, 2, 1)\n",
    "plt.plot(history.history['acc'])\n",
    "plt.plot(history.history['val_acc'])\n",
    "plt.title('model accuracy')\n",
    "plt.xlabel('epoch')\n",
    "plt.ylabel('accuracy')\n",
    "plt.legend(['train', 'test'])\n",
    "\n",
    "plt.subplot(1, 2, 2)\n",
    "plt.plot(history.history['loss'])\n",
    "plt.plot(history.history['val_loss'])\n",
    "plt.title('model loss')\n",
    "plt.xlabel('epoch')\n",
    "plt.ylabel('loss')\n",
    "plt.legend(['train', 'test'])"
   ]
  },
  {
   "cell_type": "code",
   "execution_count": 14,
   "metadata": {},
   "outputs": [
    {
     "data": {
      "text/plain": [
       "array([7, 2, 1, ..., 4, 5, 6], dtype=int64)"
      ]
     },
     "execution_count": 14,
     "metadata": {},
     "output_type": "execute_result"
    }
   ],
   "source": [
    "y_pred = model.predict(X_test_scaled)\n",
    "\n",
    "y_pred_classes = np.argmax(y_pred, axis=1)\n",
    "y_pred_classes"
   ]
  },
  {
   "cell_type": "code",
   "execution_count": 15,
   "metadata": {},
   "outputs": [
    {
     "data": {
      "text/plain": [
       "array([7, 2, 1, ..., 4, 5, 6], dtype=int64)"
      ]
     },
     "execution_count": 15,
     "metadata": {},
     "output_type": "execute_result"
    }
   ],
   "source": [
    "model.predict_classes(X_test_scaled)"
   ]
  },
  {
   "cell_type": "code",
   "execution_count": 16,
   "metadata": {},
   "outputs": [
    {
     "data": {
      "text/plain": [
       "array([7, 2, 1, ..., 4, 5, 6], dtype=uint8)"
      ]
     },
     "execution_count": 16,
     "metadata": {},
     "output_type": "execute_result"
    }
   ],
   "source": [
    "y_test"
   ]
  },
  {
   "cell_type": "code",
   "execution_count": 17,
   "metadata": {},
   "outputs": [
    {
     "data": {
      "text/plain": [
       "array([[ 974,    0,    0,    1,    0,    1,    1,    1,    1,    1],\n",
       "       [   0, 1130,    0,    0,    0,    3,    1,    0,    0,    1],\n",
       "       [   1,    0, 1021,    4,    0,    0,    0,    4,    2,    0],\n",
       "       [   0,    0,    2,  994,    0,   12,    0,    0,    0,    2],\n",
       "       [   1,    0,    1,    0,  967,    0,    1,    0,    1,   11],\n",
       "       [   0,    0,    0,    3,    0,  887,    2,    0,    0,    0],\n",
       "       [   5,    2,    1,    0,    7,    4,  938,    0,    1,    0],\n",
       "       [   0,    3,    5,    1,    0,    0,    0, 1016,    1,    2],\n",
       "       [   2,    0,    4,    2,    0,    1,    0,    1,  962,    2],\n",
       "       [   0,    0,    0,    0,    2,    6,    0,    0,    1, 1000]],\n",
       "      dtype=int64)"
      ]
     },
     "execution_count": 17,
     "metadata": {},
     "output_type": "execute_result"
    }
   ],
   "source": [
    "from sklearn.metrics import confusion_matrix, accuracy_score\n",
    "\n",
    "confusion_matrix(y_test, y_pred_classes)"
   ]
  },
  {
   "cell_type": "code",
   "execution_count": 18,
   "metadata": {},
   "outputs": [
    {
     "name": "stdout",
     "output_type": "stream",
     "text": [
      "Test Accuracy : 0.9889\n"
     ]
    },
    {
     "data": {
      "image/png": "[encoded data removed]",
      "text/plain": [
       "<Figure size 504x432 with 2 Axes>"
      ]
     },
     "metadata": {
      "needs_background": "light"
     },
     "output_type": "display_data"
    }
   ],
   "source": [
    "plt.figure(figsize=(7,6))\n",
    "plt.imshow(confusion_matrix(y_test, y_pred_classes))\n",
    "plt.colorbar()\n",
    "plt.xticks(np.arange(10), list(range(10)), rotation=45, fontsize=12)\n",
    "plt.yticks(np.arange(10), list(range(10)), fontsize=12)\n",
    "plt.title('Confusion Matrix')\n",
    "\n",
    "print('Test Accuracy :', accuracy_score(y_test, y_pred_classes))"
   ]
  }
 ],
 "metadata": {
  "kernelspec": {
   "display_name": "Python 3",
   "language": "python",
   "name": "python3"
  },
  "language_info": {
   "codemirror_mode": {
    "name": "ipython",
    "version": 3
   },
   "file_extension": ".py",
   "mimetype": "text/x-python",
   "name": "python",
   "nbconvert_exporter": "python",
   "pygments_lexer": "ipython3",
   "version": "3.7.3"
  }
 },
 "nbformat": 4,
 "nbformat_minor": 2
}
